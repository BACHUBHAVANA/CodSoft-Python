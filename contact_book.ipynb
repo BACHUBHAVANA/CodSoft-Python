{
  "nbformat": 4,
  "nbformat_minor": 0,
  "metadata": {
    "colab": {
      "provenance": [],
      "authorship_tag": "ABX9TyM6kCmC+UdArCVQvlqsmlXy",
      "include_colab_link": true
    },
    "kernelspec": {
      "name": "python3",
      "display_name": "Python 3"
    },
    "language_info": {
      "name": "python"
    }
  },
  "cells": [
    {
      "cell_type": "markdown",
      "metadata": {
        "id": "view-in-github",
        "colab_type": "text"
      },
      "source": [
        "<a href=\"https://colab.research.google.com/github/BACHUBHAVANA/CodSoft-Python/blob/main/contact_book.ipynb\" target=\"_parent\"><img src=\"https://colab.research.google.com/assets/colab-badge.svg\" alt=\"Open In Colab\"/></a>"
      ]
    },
    {
      "cell_type": "code",
      "execution_count": 5,
      "metadata": {
        "colab": {
          "base_uri": "https://localhost:8080/"
        },
        "id": "__i3KUC3Uq0-",
        "outputId": "12561718-1b64-46c2-8532-c2b95b93e6a0"
      },
      "outputs": [
        {
          "output_type": "stream",
          "name": "stdout",
          "text": [
            "\n",
            "--- Contact Book Menu ---\n",
            "1. Add Contact\n",
            "2. View Contacts\n",
            "3. Search Contact\n",
            "4. Update Contact\n",
            "5. Delete Contact\n",
            "6. Exit\n",
            "Choose an option: 1\n",
            "Name: bhav\n",
            "Phone: 8645381324\n",
            "Email: bhav2@gmail.com\n",
            "Address: 47D\n",
            "Contact bhav added successfully.\n",
            "\n",
            "--- Contact Book Menu ---\n",
            "1. Add Contact\n",
            "2. View Contacts\n",
            "3. Search Contact\n",
            "4. Update Contact\n",
            "5. Delete Contact\n",
            "6. Exit\n",
            "Choose an option: 2\n",
            "1. bhav - 8645381324\n",
            "\n",
            "--- Contact Book Menu ---\n",
            "1. Add Contact\n",
            "2. View Contacts\n",
            "3. Search Contact\n",
            "4. Update Contact\n",
            "5. Delete Contact\n",
            "6. Exit\n",
            "Choose an option: 6\n",
            "Exiting Contact Book. Goodbye!\n"
          ]
        }
      ],
      "source": [
        "class ContactBook:\n",
        "    def __init__(self):\n",
        "        self.contacts = []\n",
        "\n",
        "    def add_contact(self, name, phone, email, address):\n",
        "        contact = {\n",
        "            \"name\": name,\n",
        "            \"phone\": phone,\n",
        "            \"email\": email,\n",
        "            \"address\": address\n",
        "        }\n",
        "        self.contacts.append(contact)\n",
        "        print(f\"Contact {name} added successfully.\")\n",
        "\n",
        "    def view_contacts(self):\n",
        "        if not self.contacts:\n",
        "            print(\"No contacts found.\")\n",
        "        else:\n",
        "            for i, contact in enumerate(self.contacts, start=1):\n",
        "                print(f\"{i}. {contact['name']} - {contact['phone']}\")\n",
        "\n",
        "    def search_contact(self, search_term):\n",
        "        results = [c for c in self.contacts if search_term.lower() in c['name'].lower() or search_term in c['phone']]\n",
        "        if results:\n",
        "            for contact in results:\n",
        "                self.display_contact(contact)\n",
        "        else:\n",
        "            print(f\"No contacts found for '{search_term}'.\")\n",
        "\n",
        "    def update_contact(self, search_term):\n",
        "        for contact in self.contacts:\n",
        "            if search_term.lower() in contact['name'].lower() or search_term in contact['phone']:\n",
        "                print(\"Contact found. Enter new details:\")\n",
        "                contact['name'] = input(\"Name: \")\n",
        "                contact['phone'] = input(\"Phone: \")\n",
        "                contact['email'] = input(\"Email: \")\n",
        "                contact['address'] = input(\"Address: \")\n",
        "                print(\"Contact updated successfully.\")\n",
        "                return\n",
        "        print(f\"No contacts found for '{search_term}'.\")\n",
        "\n",
        "    def delete_contact(self, search_term):\n",
        "        for contact in self.contacts:\n",
        "            if search_term.lower() in contact['name'].lower() or search_term in contact['phone']:\n",
        "                self.contacts.remove(contact)\n",
        "                print(f\"Contact '{contact['name']}' deleted successfully.\")\n",
        "                return\n",
        "        print(f\"No contacts found for '{search_term}'.\")\n",
        "\n",
        "    def display_contact(self, contact):\n",
        "        print(f\"Name: {contact['name']}\")\n",
        "        print(f\"Phone: {contact['phone']}\")\n",
        "        print(f\"Email: {contact['email']}\")\n",
        "        print(f\"Address: {contact['address']}\")\n",
        "        print(\"-\" * 20)\n",
        "\n",
        "    def user_interface(self):\n",
        "        while True:\n",
        "            print(\"\\n--- Contact Book Menu ---\")\n",
        "            print(\"1. Add Contact\")\n",
        "            print(\"2. View Contacts\")\n",
        "            print(\"3. Search Contact\")\n",
        "            print(\"4. Update Contact\")\n",
        "            print(\"5. Delete Contact\")\n",
        "            print(\"6. Exit\")\n",
        "\n",
        "            choice = input(\"Choose an option: \")\n",
        "            if choice == '1':\n",
        "                name = input(\"Name: \")\n",
        "                phone = input(\"Phone: \")\n",
        "                email = input(\"Email: \")\n",
        "                address = input(\"Address: \")\n",
        "                self.add_contact(name, phone, email, address)\n",
        "            elif choice == '2':\n",
        "                self.view_contacts()\n",
        "            elif choice == '3':\n",
        "                search_term = input(\"Enter name or phone number to search: \")\n",
        "                self.search_contact(search_term)\n",
        "            elif choice == '4':\n",
        "                search_term = input(\"Enter name or phone number to update: \")\n",
        "                self.update_contact(search_term)\n",
        "            elif choice == '5':\n",
        "                search_term = input(\"Enter name or phone number to delete: \")\n",
        "                self.delete_contact(search_term)\n",
        "            elif choice == '6':\n",
        "                print(\"Exiting Contact Book. Goodbye!\")\n",
        "                break\n",
        "            else:\n",
        "                print(\"Invalid choice. Please try again.\")\n",
        "\n",
        "if __name__ == \"__main__\":\n",
        "    contact_book = ContactBook()\n",
        "    contact_book.user_interface()\n"
      ]
    },
    {
      "cell_type": "code",
      "source": [],
      "metadata": {
        "id": "sQra8BbsVDwY"
      },
      "execution_count": null,
      "outputs": []
    }
  ]
}