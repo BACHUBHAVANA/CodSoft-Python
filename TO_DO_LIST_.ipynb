{
  "nbformat": 4,
  "nbformat_minor": 0,
  "metadata": {
    "colab": {
      "provenance": [],
      "authorship_tag": "ABX9TyPO8H4Wa8EC9kkYBiY01mPy",
      "include_colab_link": true
    },
    "kernelspec": {
      "name": "python3",
      "display_name": "Python 3"
    },
    "language_info": {
      "name": "python"
    }
  },
  "cells": [
    {
      "cell_type": "markdown",
      "metadata": {
        "id": "view-in-github",
        "colab_type": "text"
      },
      "source": [
        "<a href=\"https://colab.research.google.com/github/BACHUBHAVANA/CodSoft-Python/blob/main/TO_DO_LIST_.ipynb\" target=\"_parent\"><img src=\"https://colab.research.google.com/assets/colab-badge.svg\" alt=\"Open In Colab\"/></a>"
      ]
    },
    {
      "cell_type": "code",
      "execution_count": 3,
      "metadata": {
        "colab": {
          "base_uri": "https://localhost:8080/"
        },
        "id": "5MQIY1ukmy4N",
        "outputId": "0c20695c-90d0-46f8-a993-a42d2ef1d72e"
      },
      "outputs": [
        {
          "output_type": "stream",
          "name": "stdout",
          "text": [
            "\n",
            "===== To-Do List =====\n",
            "1. Add Task\n",
            "2. Show Tasks\n",
            "3. Mark Task as Done\n",
            "4. Exit\n",
            "Enter your choice: 1\n",
            "\n",
            "How many tasks do you want to add: 2\n",
            "Enter the task: 1\n",
            "Task added!\n",
            "Enter the task: 2\n",
            "Task added!\n",
            "\n",
            "===== To-Do List =====\n",
            "1. Add Task\n",
            "2. Show Tasks\n",
            "3. Mark Task as Done\n",
            "4. Exit\n",
            "Enter your choice: 2\n",
            "\n",
            "Tasks:\n",
            "1. 1 - Not Done\n",
            "2. 2 - Not Done\n",
            "\n",
            "===== To-Do List =====\n",
            "1. Add Task\n",
            "2. Show Tasks\n",
            "3. Mark Task as Done\n",
            "4. Exit\n",
            "Enter your choice: 3\n",
            "Invalid task number.\n",
            "\n",
            "===== To-Do List =====\n",
            "1. Add Task\n",
            "2. Show Tasks\n",
            "3. Mark Task as Done\n",
            "4. Exit\n",
            "Enter your choice: 2\n",
            "\n",
            "Tasks:\n",
            "1. 1 - Not Done\n",
            "2. 2 - Not Done\n",
            "\n",
            "===== To-Do List =====\n",
            "1. Add Task\n",
            "2. Show Tasks\n",
            "3. Mark Task as Done\n",
            "4. Exit\n",
            "Enter your choice: 4\n",
            "Exiting the To-Do List.\n"
          ]
        }
      ],
      "source": [
        "def main():\n",
        "    tasks = []\n",
        "\n",
        "    while True:\n",
        "        print(\"\\n===== To-Do List =====\")\n",
        "        print(\"1. Add Task\")\n",
        "        print(\"2. Show Tasks\")\n",
        "        print(\"3. Mark Task as Done\")\n",
        "        print(\"4. Exit\")\n",
        "\n",
        "        choice = input(\"Enter your choice: \")\n",
        "\n",
        "        if choice == '1':\n",
        "            print()\n",
        "            n_tasks = int(input(\"How many tasks do you want to add: \"))\n",
        "\n",
        "            for i in range(n_tasks):\n",
        "                task = input(\"Enter the task: \")\n",
        "                tasks.append({\"task\": task, \"done\": False})\n",
        "                print(\"Task added!\")\n",
        "\n",
        "        elif choice == '2':\n",
        "            print(\"\\nTasks:\")\n",
        "            if not tasks:\n",
        "                print(\"No tasks in the list.\")\n",
        "            else:\n",
        "                for index, task in enumerate(tasks):\n",
        "                    status = \"Done\" if task[\"done\"] else \"Not Done\"\n",
        "                    print(f\"{index + 1}. {task['task']} - {status}\")\n",
        "\n",
        "        elif choice == '3':\n",
        "            task_index = int(input(\"Enter the task number to mark as done: \")) - 1\n",
        "            if 0 <= task_index < len(tasks):\n",
        "                tasks[task_index][\"done\"] = True\n",
        "                print(\"Task marked as done!\")\n",
        "            else:\n",
        "                print(\"Invalid task number.\")\n",
        "\n",
        "        elif choice == '4':\n",
        "            print(\"Exiting the To-Do List.\")\n",
        "            break\n",
        "\n",
        "        else:\n",
        "            print(\"Invalid choice. Please try again.\")\n",
        "\n",
        "if __name__ == \"__main__\":\n",
        "    main()\n"
      ]
    },
    {
      "cell_type": "code",
      "source": [],
      "metadata": {
        "id": "bsNjQKjGmz4P"
      },
      "execution_count": null,
      "outputs": []
    }
  ]
}